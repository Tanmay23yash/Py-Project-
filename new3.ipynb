{
 "cells": [
  {
   "cell_type": "code",
   "execution_count": 1,
   "metadata": {},
   "outputs": [
    {
     "name": "stderr",
     "output_type": "stream",
     "text": [
      "2024-09-14 01:43:27.769 \n",
      "  \u001b[33m\u001b[1mWarning:\u001b[0m to view this Streamlit app on a browser, run it with the following\n",
      "  command:\n",
      "\n",
      "    streamlit run c:\\Users\\hp\\anaconda3\\Lib\\site-packages\\ipykernel_launcher.py [ARGUMENTS]\n"
     ]
    }
   ],
   "source": [
    "import streamlit as st\n",
    "from langchain.prompts import PromptTemplate\n",
    "from langchain.llms import CTransformers\n",
    "\n",
    "## Function To get response from LLAma 2 model\n",
    "\n",
    "def getLLamaresponse(input_text,no_words,blog_style):\n",
    "\n",
    "    ### LLama2 model\n",
    "    llm=CTransformers(model='models/llama-2-7b-chat.ggmlv3.q8_0.bin',\n",
    "                      model_type='llama',\n",
    "                      config={'max_new_tokens':256,\n",
    "                              'temperature':0.01})\n",
    "    \n",
    "    ## Prompt Template\n",
    "\n",
    "    template=\"\"\"\n",
    "        Write a blog for {blog_style} job profile for a topic {input_text}\n",
    "        within {no_words} words.\n",
    "            \"\"\"\n",
    "    \n",
    "    prompt=PromptTemplate(input_variables=[\"blog_style\",\"input_text\",'no_words'],\n",
    "                          template=template)\n",
    "    \n",
    "    ## Generate the ressponse from the LLama 2 model\n",
    "    response=llm(prompt.format(blog_style=blog_style,input_text=input_text,no_words=no_words))\n",
    "    print(response)\n",
    "    return response\n",
    "\n",
    "\n",
    "\n",
    "\n",
    "\n",
    "\n",
    "st.set_page_config(page_title=\"Generate Blogs\",\n",
    "                    page_icon='🤖',\n",
    "                    layout='centered',\n",
    "                    initial_sidebar_state='collapsed')\n",
    "\n",
    "st.header(\"Generate Blogs 🤖\")\n",
    "\n",
    "input_text=st.text_input(\"Enter the Blog Topic\")\n",
    "\n",
    "## creating to more columns for additonal 2 fields\n",
    "\n",
    "col1,col2=st.columns([5,5])\n",
    "\n",
    "with col1:\n",
    "    no_words=st.text_input('No of Words')\n",
    "with col2:\n",
    "    blog_style=st.selectbox('Writing the blog for',\n",
    "                            ('Researchers','Data Scientist','Common People'),index=0)\n",
    "    \n",
    "submit=st.button(\"Generate\")\n",
    "\n",
    "## Final response\n",
    "if submit:\n",
    "    st.write(getLLamaresponse(input_text,no_words,blog_style))"
   ]
  },
  {
   "cell_type": "code",
   "execution_count": 4,
   "metadata": {},
   "outputs": [],
   "source": []
  },
  {
   "cell_type": "code",
   "execution_count": null,
   "metadata": {},
   "outputs": [],
   "source": []
  }
 ],
 "metadata": {
  "kernelspec": {
   "display_name": "base",
   "language": "python",
   "name": "python3"
  },
  "language_info": {
   "codemirror_mode": {
    "name": "ipython",
    "version": 3
   },
   "file_extension": ".py",
   "mimetype": "text/x-python",
   "name": "python",
   "nbconvert_exporter": "python",
   "pygments_lexer": "ipython3",
   "version": "3.12.4"
  }
 },
 "nbformat": 4,
 "nbformat_minor": 2
}
