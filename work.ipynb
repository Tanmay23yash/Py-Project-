{
 "cells": [
  {
   "cell_type": "code",
   "execution_count": null,
   "metadata": {},
   "outputs": [],
   "source": [
    "from sklearn.preprocessing import OneHotEncoder, OrdinalEncoder\n",
    "import numpy as np\n",
    "\n",
    "# Example data\n",
    "categories = np.array(['red', 'green', 'blue', 'green', 'red'])\n",
    "\n",
    "# One-Hot Encoding\n",
    "onehot_encoder = OneHotEncoder(sparse=False)\n",
    "onehot_encoded = onehot_encoder.fit_transform(categories.reshape(-1, 1))\n",
    "print(\"One-Hot Encoded Data:\\n\", onehot_encoded)\n",
    "\n",
    "# Ordinal Encoding\n",
    "ordinal_encoder = OrdinalEncoder()\n",
    "ordinal_encoded = ordinal_encoder.fit_transform(categories.reshape(-1, 1))\n",
    "print(\"Ordinal Encoded Data:\\n\", ordinal_encoded)\n"
   ]
  }
 ],
 "metadata": {
  "kernelspec": {
   "display_name": "Python 3",
   "language": "python",
   "name": "python3"
  },
  "language_info": {
   "codemirror_mode": {
    "name": "ipython",
    "version": 3
   },
   "file_extension": ".py",
   "mimetype": "text/x-python",
   "name": "python",
   "nbconvert_exporter": "python",
   "pygments_lexer": "ipython3",
   "version": "3.10.6"
  }
 },
 "nbformat": 4,
 "nbformat_minor": 2
}
