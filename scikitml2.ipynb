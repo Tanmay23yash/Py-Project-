{
 "cells": [
  {
   "cell_type": "code",
   "execution_count": 2,
   "metadata": {},
   "outputs": [],
   "source": [
    "import sklearn\n",
    "import pandas as pd \n",
    "import numpy as np \n",
    "cars_missing = pd.read_csv(\"car-sales-extended-missing-data.csv\")\n",
    "#cars_missing.dropna(subset='Price' , inplace = True)\n"
   ]
  },
  {
   "cell_type": "code",
   "execution_count": 3,
   "metadata": {},
   "outputs": [],
   "source": [
    "x = cars_missing.drop('Price' , axis=1)\n",
    "y = cars_missing['Price']"
   ]
  },
  {
   "cell_type": "code",
   "execution_count": 4,
   "metadata": {},
   "outputs": [],
   "source": [
    "#Converting categorical data to numerical data\n",
    "#filling the NaN values\n",
    "cars_missing['Make'].fillna('missing' , inplace=True)\n",
    "cars_missing['Colour'].fillna('missing' , inplace=True)\n",
    "cars_missing['Odometer (KM)'].fillna(cars_missing['Odometer (KM)'].mean() , inplace=True)\n",
    "cars_missing['Doors'].fillna(4,inplace=True)\n",
    "\n",
    "\n",
    "from sklearn.preprocessing import OneHotEncoder\n",
    "from sklearn.compose import ColumnTransformer\n",
    "\n",
    "categorical_features = ['Make' , 'Colour' , 'Doors']\n",
    "one_hot = OneHotEncoder()\n",
    "\n",
    "transformer = ColumnTransformer([('One_Hot' , one_hot , categorical_features)] , remainder = 'passthrough')\n",
    "\n",
    "transformed_x = transformer.fit_transform(x)\n",
    "\n",
    "#filling the NaN values\n",
    "cars_missing['Make'].fillna('missing' , inplace=True)\n",
    "cars_missing['Colour'].fillna('missing' , inplace=True)\n",
    "cars_missing['Odometer (KM)'].fillna(cars_missing['Odometer (KM)'].mean() , inplace=True)\n",
    "cars_missing['Doors'].fillna(4,inplace=True)"
   ]
  },
  {
   "cell_type": "code",
   "execution_count": 5,
   "metadata": {},
   "outputs": [
    {
     "data": {
      "text/plain": [
       "Make              0\n",
       "Colour            0\n",
       "Odometer (KM)     0\n",
       "Doors             0\n",
       "Price            50\n",
       "dtype: int64"
      ]
     },
     "execution_count": 5,
     "metadata": {},
     "output_type": "execute_result"
    }
   ],
   "source": [
    "#we have filled the missing values\n",
    "cars_missing.isna().sum()\n"
   ]
  },
  {
   "cell_type": "code",
   "execution_count": 6,
   "metadata": {},
   "outputs": [],
   "source": [
    "#Remove rows with missing price values , cause we are predicting the price , and those rows are useless\n",
    "cars_missing.dropna(inplace = True)"
   ]
  },
  {
   "cell_type": "code",
   "execution_count": null,
   "metadata": {},
   "outputs": [],
   "source": [
    "from sklearn.ensemble import RandomForestClassifier \n",
    "from sklearn.model_selection import train_test_split\n",
    "clf = RandomForestClassifier(n_estimators=100)\n",
    "clf.get_params()\n",
    "x_train , x_test , y_train , y_test = train_test_split(transformed_x,y,test_size=0.2)\n",
    "clf.fit(x_train,y_train) \n",
    "clf.score(x_train,y_train)\n"
   ]
  },
  {
   "cell_type": "code",
   "execution_count": null,
   "metadata": {},
   "outputs": [],
   "source": []
  }
 ],
 "metadata": {
  "kernelspec": {
   "display_name": "Python 3",
   "language": "python",
   "name": "python3"
  },
  "language_info": {
   "codemirror_mode": {
    "name": "ipython",
    "version": 3
   },
   "file_extension": ".py",
   "mimetype": "text/x-python",
   "name": "python",
   "nbconvert_exporter": "python",
   "pygments_lexer": "ipython3",
   "version": "3.11.6"
  },
  "orig_nbformat": 4
 },
 "nbformat": 4,
 "nbformat_minor": 2
}
