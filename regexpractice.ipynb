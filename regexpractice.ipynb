{
 "cells": [
  {
   "cell_type": "code",
   "execution_count": 1,
   "metadata": {},
   "outputs": [
    {
     "name": "stdout",
     "output_type": "stream",
     "text": [
      "Modified text: I love programming in Java. Java is great.\n"
     ]
    }
   ],
   "source": [
    "import re\n",
    "\n",
    "text = \"I love programming in Python. Python is great.\"\n",
    "pattern = r\"Python\"\n",
    "\n",
    "new_text = re.sub(pattern, \"Java\", text)\n",
    "print(\"Modified text:\", new_text)\n"
   ]
  },
  {
   "cell_type": "code",
   "execution_count": 13,
   "metadata": {},
   "outputs": [
    {
     "name": "stdout",
     "output_type": "stream",
     "text": [
      "SSN found: 123-45-6789\n",
      "SSN found: 987-65-4321\n"
     ]
    }
   ],
   "source": [
    "#Extracting a number(int) from a string\n",
    "import re\n",
    "\n",
    "pattern = re.compile(r\"\\d{3}-\\d{2}-\\d{4}\")\n",
    "text = \"My SSN is 123-45-6789 and yours is 987-65-4321.\"\n",
    "\n",
    "matches = pattern.findall(text)\n",
    "for match in matches:\n",
    "    print(\"SSN found:\", match)\n"
   ]
  },
  {
   "cell_type": "code",
   "execution_count": 16,
   "metadata": {},
   "outputs": [
    {
     "name": "stdout",
     "output_type": "stream",
     "text": [
      "Model Number 534\n"
     ]
    }
   ],
   "source": [
    "text = \"The model number is 534\" \n",
    "pattern = re.compile(r\"\\d{3}\")\n",
    "\n",
    "matches = pattern.findall(text)\n",
    "for i in matches:\n",
    "    print(\"Model Number\" , i)"
   ]
  },
  {
   "cell_type": "code",
   "execution_count": 17,
   "metadata": {},
   "outputs": [
    {
     "name": "stdout",
     "output_type": "stream",
     "text": [
      "       Model    Price\n",
      "0     Toyota  25000.0\n",
      "1      Honda  22000.0\n",
      "2       Ford  20500.0\n",
      "3  Chevrolet  23500.0\n",
      "4        BMW  45000.0\n"
     ]
    }
   ],
   "source": [
    "import pandas as pd\n",
    "\n",
    "data = {\n",
    "    'Model': ['Toyota', 'Honda', 'Ford', 'Chevrolet', 'BMW'],\n",
    "    'Price': ['$25,000.00', '$22,000.00', '$20,500.00', '$23,500.00', '$45,000.00']\n",
    "}\n",
    "\n",
    "car_prices_df = pd.DataFrame(data)\n",
    "\n",
    "# If you want to remove the '$' and convert the 'Price' column to a numeric format (float), you can use the following code:\n",
    "car_prices_df['Price'] = car_prices_df['Price'].str.replace('[\\$\\,]', '', regex=True).astype(float)\n",
    "\n",
    "print(car_prices_df)\n"
   ]
  },
  {
   "cell_type": "code",
   "execution_count": 4,
   "metadata": {},
   "outputs": [
    {
     "name": "stdout",
     "output_type": "stream",
     "text": [
      "   A  B\n",
      "0  1  2\n",
      "1  4  5\n",
      "2  7  8\n"
     ]
    }
   ],
   "source": [
    "import pandas as pd\n",
    "import numpy as np\n",
    "\n",
    "# Create a 2D array (NumPy array)\n",
    "data = np.array([[1, 2, 3], [4, 5, 6], [7, 8, 9]])\n",
    "\n",
    "# Convert the 2D array to a DataFrame\n",
    "df = pd.DataFrame(data, columns=['A', 'B', 'C'])\n",
    "\n",
    "# Use iloc to extract specific columns\n",
    "selected_columns = df.iloc[:, [0,1]]\n",
    "\n",
    "# Display the result\n",
    "print(selected_columns)\n"
   ]
  },
  {
   "cell_type": "code",
   "execution_count": 3,
   "metadata": {},
   "outputs": [
    {
     "name": "stdout",
     "output_type": "stream",
     "text": [
      "   z  x\n",
      "0  1  3\n",
      "1  4  6\n",
      "2  7  9\n"
     ]
    },
    {
     "data": {
      "text/html": [
       "<div>\n",
       "<style scoped>\n",
       "    .dataframe tbody tr th:only-of-type {\n",
       "        vertical-align: middle;\n",
       "    }\n",
       "\n",
       "    .dataframe tbody tr th {\n",
       "        vertical-align: top;\n",
       "    }\n",
       "\n",
       "    .dataframe thead th {\n",
       "        text-align: right;\n",
       "    }\n",
       "</style>\n",
       "<table border=\"1\" class=\"dataframe\">\n",
       "  <thead>\n",
       "    <tr style=\"text-align: right;\">\n",
       "      <th></th>\n",
       "      <th>A</th>\n",
       "      <th>B</th>\n",
       "      <th>C</th>\n",
       "    </tr>\n",
       "  </thead>\n",
       "  <tbody>\n",
       "    <tr>\n",
       "      <th>0</th>\n",
       "      <td>1</td>\n",
       "      <td>2</td>\n",
       "      <td>3</td>\n",
       "    </tr>\n",
       "    <tr>\n",
       "      <th>1</th>\n",
       "      <td>4</td>\n",
       "      <td>5</td>\n",
       "      <td>6</td>\n",
       "    </tr>\n",
       "    <tr>\n",
       "      <th>2</th>\n",
       "      <td>7</td>\n",
       "      <td>8</td>\n",
       "      <td>9</td>\n",
       "    </tr>\n",
       "  </tbody>\n",
       "</table>\n",
       "</div>"
      ],
      "text/plain": [
       "   A  B  C\n",
       "0  1  2  3\n",
       "1  4  5  6\n",
       "2  7  8  9"
      ]
     },
     "execution_count": 3,
     "metadata": {},
     "output_type": "execute_result"
    }
   ],
   "source": [
    "# Create a 2D array (NumPy array)\n",
    "data = np.array([[1, 2, 3], [4, 5, 6], [7, 8, 9]])\n",
    "\n",
    "# Convert the 2D array to a DataFrame\n",
    "df = pd.DataFrame(data, columns=['A', 'B', 'C'])\n",
    "\n",
    "# Extract the specific columns\n",
    "selected_columns = df.iloc[:, [0, 2]]\n",
    "\n",
    "# Rename the columns\n",
    "selected_columns.columns = ['z', 'x']\n",
    "\n",
    "# Display the result\n",
    "print(selected_columns)\n",
    "df \n"
   ]
  },
  {
   "cell_type": "code",
   "execution_count": null,
   "metadata": {},
   "outputs": [],
   "source": []
  }
 ],
 "metadata": {
  "kernelspec": {
   "display_name": "Python 3",
   "language": "python",
   "name": "python3"
  },
  "language_info": {
   "codemirror_mode": {
    "name": "ipython",
    "version": 3
   },
   "file_extension": ".py",
   "mimetype": "text/x-python",
   "name": "python",
   "nbconvert_exporter": "python",
   "pygments_lexer": "ipython3",
   "version": "3.10.6"
  },
  "orig_nbformat": 4
 },
 "nbformat": 4,
 "nbformat_minor": 2
}
